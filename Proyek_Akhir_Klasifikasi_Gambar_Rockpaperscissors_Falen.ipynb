{
  "nbformat": 4,
  "nbformat_minor": 0,
  "metadata": {
    "colab": {
      "private_outputs": true,
      "provenance": [],
      "authorship_tag": "ABX9TyNrtWEsSxnV+TIQaXHnICze",
      "include_colab_link": true
    },
    "kernelspec": {
      "name": "python3",
      "display_name": "Python 3"
    },
    "language_info": {
      "name": "python"
    }
  },
  "cells": [
    {
      "cell_type": "markdown",
      "metadata": {
        "id": "view-in-github",
        "colab_type": "text"
      },
      "source": [
        "<a href=\"https://colab.research.google.com/github/Falenbayu/-Proyek-Klasifikasi-Gambar-Batu-Gunting-Kertas-Falen/blob/main/Proyek_Akhir_Klasifikasi_Gambar_Rockpaperscissors_Falen.ipynb\" target=\"_parent\"><img src=\"https://colab.research.google.com/assets/colab-badge.svg\" alt=\"Open In Colab\"/></a>"
      ]
    },
    {
      "cell_type": "markdown",
      "source": [
        "## Name        : FALEN BAYU ADHETYA\n",
        "## Username    : falen_bayu\n",
        "## Email       : falenbayu@gmail.com"
      ],
      "metadata": {
        "id": "SjVCdxiCwP2E"
      }
    },
    {
      "cell_type": "code",
      "source": [],
      "metadata": {
        "id": "0ah0mUgVwm1M"
      },
      "execution_count": null,
      "outputs": []
    }
  ]
}