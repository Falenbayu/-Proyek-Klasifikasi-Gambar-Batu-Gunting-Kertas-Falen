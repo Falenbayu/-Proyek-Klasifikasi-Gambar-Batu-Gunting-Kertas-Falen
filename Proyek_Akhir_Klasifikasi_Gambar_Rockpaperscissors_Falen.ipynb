{
  "nbformat": 4,
  "nbformat_minor": 0,
  "metadata": {
    "colab": {
      "private_outputs": true,
      "provenance": [],
      "authorship_tag": "ABX9TyMPxjRKItnZVs2AlCAbr/6T",
      "include_colab_link": true
    },
    "kernelspec": {
      "name": "python3",
      "display_name": "Python 3"
    },
    "language_info": {
      "name": "python"
    }
  },
  "cells": [
    {
      "cell_type": "markdown",
      "metadata": {
        "id": "view-in-github",
        "colab_type": "text"
      },
      "source": [
        "<a href=\"https://colab.research.google.com/github/Falenbayu/-Proyek-Klasifikasi-Gambar-Batu-Gunting-Kertas-Falen/blob/main/Proyek_Akhir_Klasifikasi_Gambar_Rockpaperscissors_Falen.ipynb\" target=\"_parent\"><img src=\"https://colab.research.google.com/assets/colab-badge.svg\" alt=\"Open In Colab\"/></a>"
      ]
    },
    {
      "cell_type": "markdown",
      "source": [
        "## Name        : FALEN BAYU ADHETYA\n",
        "## Username    : falen_bayu\n",
        "## Email       : falenbayu@gmail.com"
      ],
      "metadata": {
        "id": "SjVCdxiCwP2E"
      }
    },
    {
      "cell_type": "code",
      "source": [
        "import pandas as pd\n",
        "from pandas import DataFrame\n",
        "\n",
        "# Library to extract files\n",
        "import os\n",
        "import zipfile\n",
        "\n",
        "# Library to display images\n",
        "%matplotlib inline\n",
        "from keras.preprocessing import image\n",
        "import matplotlib.pyplot as plt\n",
        "import matplotlib.image as mpimg\n",
        "\n",
        "# Library to using Image Generator\n",
        "import numpy as np\n",
        "import tensorflow as tf\n",
        "from tensorflow import keras\n",
        "from tensorflow.keras.preprocessing import image\n",
        "from tensorflow.keras.preprocessing.image import ImageDataGenerator\n",
        "from google.colab import files"
      ],
      "metadata": {
        "id": "0ah0mUgVwm1M"
      },
      "execution_count": null,
      "outputs": []
    },
    {
      "cell_type": "code",
      "source": [
        "\n",
        "# download dataset using wget command\n",
        "!wget --no-check-certificate \\\n",
        "  https://github.com/dicodingacademy/assets/releases/download/release/rockpaperscissors.zip"
      ],
      "metadata": {
        "id": "AR8Z-hKRItse"
      },
      "execution_count": null,
      "outputs": []
    },
    {
      "cell_type": "code",
      "source": [
        "local_zip = '/content/rockpaperscissors.zip'\n",
        "zip_ref = zipfile.ZipFile(local_zip, 'r')\n",
        "zip_ref.extractall('/content')\n",
        "zip_ref.close()"
      ],
      "metadata": {
        "id": "ACmRomrrI4G4"
      },
      "execution_count": null,
      "outputs": []
    },
    {
      "cell_type": "code",
      "source": [
        "paper_folder = os.path.join('/content/rockpaperscissors/paper')\n",
        "\n",
        "# Show the total number of images in the paper folder\n",
        "len_paper_folder = len(os.listdir(paper_folder))\n",
        "print(\"Total paper pictures:\", len_paper_folder)\n",
        "\n",
        "# Show 5 data in the paper folder\n",
        "paper = os.listdir(paper_folder)\n",
        "print(\"5 data in the paper folder:\")\n",
        "i=0\n",
        "paper_temp = []\n",
        "for file_paper in paper[:5]:\n",
        "  paper_temp.append(file_paper)\n",
        "  i=i+1\n",
        "data_paper = {'File Name': paper_temp}\n",
        "df_paper = pd.DataFrame(data_paper,\n",
        "                           index=[1,2,3,4,5])\n",
        "df_paper.head()"
      ],
      "metadata": {
        "id": "4_pojeJJJOhC"
      },
      "execution_count": null,
      "outputs": []
    },
    {
      "cell_type": "code",
      "source": [
        "\n",
        "image_paper = image.load_img('/content/rockpaperscissors/paper/CHf3O6SDtuPbbD0s.png')\n",
        "image_paper_plot = plt.imshow(image_paper)"
      ],
      "metadata": {
        "id": "vei29dAKJUnu"
      },
      "execution_count": null,
      "outputs": []
    },
    {
      "cell_type": "code",
      "source": [
        "rock_folder = os.path.join('/content/rockpaperscissors/rock')\n",
        "\n",
        "# Show the total number of images in the rock folder\n",
        "len_rock_folder = len(os.listdir(rock_folder))\n",
        "print(\"Total rock pictures:\", len_rock_folder)\n",
        "\n",
        "# Show 5 data in the rock folder\n",
        "rock = os.listdir(rock_folder)\n",
        "print(\"5 data in the rock folder:\")\n",
        "i=0\n",
        "rock_temp = []\n",
        "for file_rock in rock[:5]:\n",
        "  rock_temp.append(file_rock)\n",
        "  i=i+1\n",
        "data_rock = {'File Name': rock_temp}\n",
        "df_rock = pd.DataFrame(data_rock,\n",
        "                           index=[1,2,3,4,5])\n",
        "df_rock.head()"
      ],
      "metadata": {
        "id": "LGYXfEo-JcpL"
      },
      "execution_count": null,
      "outputs": []
    },
    {
      "cell_type": "code",
      "source": [
        "image_rock = image.load_img('/content/rockpaperscissors/rock/yrzokMUYHlOLsRhQ.png')\n",
        "image_plot = plt.imshow(image_rock)"
      ],
      "metadata": {
        "id": "Di8WHK64JgFG"
      },
      "execution_count": null,
      "outputs": []
    },
    {
      "cell_type": "code",
      "source": [
        "scissors_folder = os.path.join('/content/rockpaperscissors/scissors')\n",
        "\n",
        "# Show the total number of images in the scissors folder\n",
        "len_scissors_folder = len(os.listdir(scissors_folder))\n",
        "print(\"Total scissors pictures:\", len_scissors_folder)\n",
        "\n",
        "# Show 5 data in the scissors folder\n",
        "scissors = os.listdir(scissors_folder)\n",
        "print(\"5 data in the scissors folder:\")\n",
        "i=0\n",
        "scissors_temp = []\n",
        "for file_scissors in scissors[:5]:\n",
        "  scissors_temp.append(file_scissors)\n",
        "  i=i+1\n",
        "data_scissors = {'File Name': scissors_temp}\n",
        "df_scissors = pd.DataFrame(data_scissors,\n",
        "                           index=[1,2,3,4,5])\n",
        "df_scissors.head()"
      ],
      "metadata": {
        "id": "7QlpnHy8JjrO"
      },
      "execution_count": null,
      "outputs": []
    },
    {
      "cell_type": "code",
      "source": [
        "image_scissors = image.load_img('/content/rockpaperscissors/scissors/3kVoftgTNdDcvPPY.png')\n",
        "image_plot = plt.imshow(image_scissors)"
      ],
      "metadata": {
        "id": "CxCS1TclJm8L"
      },
      "execution_count": null,
      "outputs": []
    },
    {
      "cell_type": "markdown",
      "source": [
        "Menggunakan Image Generator"
      ],
      "metadata": {
        "id": "A64bGYzmJryd"
      }
    },
    {
      "cell_type": "code",
      "source": [
        "train_dir = os.path.join(\"/content/rockpaperscissors/rps-cv-images/\")"
      ],
      "metadata": {
        "id": "WdidYYd0Jt_e"
      },
      "execution_count": null,
      "outputs": []
    },
    {
      "cell_type": "code",
      "source": [
        "train_datagen = ImageDataGenerator(\n",
        "                    rescale=1./255,\n",
        "                    rotation_range=20,\n",
        "                    horizontal_flip=True,\n",
        "                    shear_range=0.2,\n",
        "                    zoom_range=0.2,\n",
        "                    fill_mode = 'nearest',\n",
        "                    # Data is divided into 40% data validation and 60% training data\n",
        "                    validation_split=0.4)"
      ],
      "metadata": {
        "id": "7Fd_ZBJiJxPa"
      },
      "execution_count": null,
      "outputs": []
    },
    {
      "cell_type": "code",
      "source": [
        "\n",
        "train_generator = train_datagen.flow_from_directory(\n",
        "        train_dir,\n",
        "        target_size=(150, 150),\n",
        "        batch_size=40,\n",
        "        class_mode='categorical',\n",
        "        subset='training')\n",
        "\n",
        "validation_generator = train_datagen.flow_from_directory(\n",
        "        train_dir,\n",
        "        target_size=(150, 150),\n",
        "        batch_size=40,\n",
        "        class_mode='categorical',\n",
        "        subset='validation')"
      ],
      "metadata": {
        "id": "c6EWes8dJ0Dl"
      },
      "execution_count": null,
      "outputs": []
    },
    {
      "cell_type": "markdown",
      "source": [
        "Membuat Model"
      ],
      "metadata": {
        "id": "QNrsMlzrJ3le"
      }
    },
    {
      "cell_type": "code",
      "source": [
        "model = tf.keras.models.Sequential([\n",
        "    tf.keras.layers.Conv2D(64, (3,3), activation='relu', input_shape=(150, 150, 3)),\n",
        "    tf.keras.layers.MaxPooling2D(2, 2),\n",
        "    tf.keras.layers.Conv2D(32, (3,3), activation='relu'),\n",
        "    tf.keras.layers.MaxPooling2D(2, 2),\n",
        "    tf.keras.layers.Dropout(0.4),\n",
        "    tf.keras.layers.Conv2D(64, (3,3), activation='relu'),\n",
        "    tf.keras.layers.MaxPooling2D(2,2),\n",
        "    tf.keras.layers.Dropout(0.4),\n",
        "    tf.keras.layers.Flatten(),\n",
        "    tf.keras.layers.Dense(512, activation='relu'),\n",
        "    tf.keras.layers.Dense(256, activation='relu'),\n",
        "    tf.keras.layers.Dense(3, activation='softmax')\n",
        "])"
      ],
      "metadata": {
        "id": "QdsGWMXSJ5OO"
      },
      "execution_count": null,
      "outputs": []
    },
    {
      "cell_type": "code",
      "source": [
        "# compile model\n",
        "model.compile(loss='categorical_crossentropy',\n",
        "              optimizer='adam',\n",
        "              metrics=['accuracy'])"
      ],
      "metadata": {
        "id": "Lbt-4VwOJ9ic"
      },
      "execution_count": null,
      "outputs": []
    },
    {
      "cell_type": "code",
      "source": [
        "class stop(tf.keras.callbacks.Callback):\n",
        "  def on_epoch_end(self, epoch, logs={}):\n",
        "    if(logs.get('accuracy')>0.96):\n",
        "      print(\"\\nAccuracy has reached 0.96\")\n",
        "      self.model.stop_training=True\n",
        "callbacks=stop()\n",
        "# train models with model.fit\n",
        "train_models = model.fit(\n",
        "      train_generator,\n",
        "      batch_size=15,\n",
        "      epochs=10,\n",
        "      validation_data=validation_generator,\n",
        "      validation_steps=5,\n",
        "      callbacks=[callbacks])\n",
        ""
      ],
      "metadata": {
        "id": "EiC8XaZ9KA7T"
      },
      "execution_count": null,
      "outputs": []
    },
    {
      "cell_type": "code",
      "source": [
        "uploaded = files.upload()\n",
        "\n",
        "for fn in uploaded.keys():\n",
        "\n",
        "  # predicting images\n",
        "  path = fn\n",
        "  img = image.load_img(path, target_size=(150,150))\n",
        "  imgplot = plt.imshow(img)\n",
        "  x = image.img_to_array(img)\n",
        "  x = np.expand_dims(x, axis=0)\n",
        "\n",
        "  images = np.vstack([x])\n",
        "  classes = model.predict(images, batch_size=10)\n",
        "\n",
        "  print(fn)\n",
        "  if classes[0,0]!=0:\n",
        "    print('This picture shows the shape of the paper')\n",
        "  elif classes[0,1]!=0:\n",
        "    print('This picture shows the shape of the rock')\n",
        "  elif classes[0,2]!=0:\n",
        "    print('This picture shows the shape of the scissors')\n",
        "  else:\n",
        "    print('Unknown image')"
      ],
      "metadata": {
        "id": "qTHOeCz1KG1C"
      },
      "execution_count": null,
      "outputs": []
    }
  ]
}